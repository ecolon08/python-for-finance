{
 "cells": [
  {
   "cell_type": "markdown",
   "source": [
    "## Simple Returns"
   ],
   "metadata": {
    "collapsed": false
   }
  },
  {
   "cell_type": "code",
   "execution_count": 8,
   "outputs": [],
   "source": [
    "from datetime import datetime\n",
    "\n",
    "import numpy as np\n",
    "from pandas_datareader import data as wb\n",
    "import matplotlib.pyplot as plt\n",
    "\n",
    "import yfinance as yf\n",
    "yf.pdr_override()"
   ],
   "metadata": {
    "collapsed": false
   }
  },
  {
   "cell_type": "code",
   "execution_count": 2,
   "outputs": [
    {
     "name": "stdout",
     "output_type": "stream",
     "text": [
      "[*********************100%***********************]  1 of 1 completed\n"
     ]
    },
    {
     "data": {
      "text/plain": "                  Open        High         Low       Close   Adj Close  \\\nDate                                                                     \n1995-01-03   15.468750   15.625000   15.437500   15.593750    7.771261   \n1995-01-04   15.531250   15.656250   15.312500   15.468750    7.708962   \n1995-01-05   15.375000   15.437500   15.218750   15.250000    7.599951   \n1995-01-06   15.156250   15.406250   15.156250   15.281250    7.615522   \n1995-01-09   15.343750   15.406250   15.187500   15.218750    7.584374   \n...                ...         ...         ...         ...         ...   \n2023-03-06  140.729996  141.139999  139.940002  140.350006  140.350006   \n2023-03-07  140.429993  140.619995  137.339996  137.559998  137.559998   \n2023-03-08  137.199997  137.690002  136.600006  137.580002  137.580002   \n2023-03-09  138.149994  138.559998  136.100006  136.570007  136.570007   \n2023-03-10  136.949997  137.990005  136.350006  137.190002  137.190002   \n\n             Volume  \nDate                 \n1995-01-03  3318400  \n1995-01-04  2218800  \n1995-01-05  2319600  \n1995-01-06  3438000  \n1995-01-09  1795200  \n...             ...  \n2023-03-06  4943100  \n2023-03-07  5606800  \n2023-03-08  5518800  \n2023-03-09  4467200  \n2023-03-10  5908500  \n\n[7097 rows x 6 columns]",
      "text/html": "<div>\n<style scoped>\n    .dataframe tbody tr th:only-of-type {\n        vertical-align: middle;\n    }\n\n    .dataframe tbody tr th {\n        vertical-align: top;\n    }\n\n    .dataframe thead th {\n        text-align: right;\n    }\n</style>\n<table border=\"1\" class=\"dataframe\">\n  <thead>\n    <tr style=\"text-align: right;\">\n      <th></th>\n      <th>Open</th>\n      <th>High</th>\n      <th>Low</th>\n      <th>Close</th>\n      <th>Adj Close</th>\n      <th>Volume</th>\n    </tr>\n    <tr>\n      <th>Date</th>\n      <th></th>\n      <th></th>\n      <th></th>\n      <th></th>\n      <th></th>\n      <th></th>\n    </tr>\n  </thead>\n  <tbody>\n    <tr>\n      <th>1995-01-03</th>\n      <td>15.468750</td>\n      <td>15.625000</td>\n      <td>15.437500</td>\n      <td>15.593750</td>\n      <td>7.771261</td>\n      <td>3318400</td>\n    </tr>\n    <tr>\n      <th>1995-01-04</th>\n      <td>15.531250</td>\n      <td>15.656250</td>\n      <td>15.312500</td>\n      <td>15.468750</td>\n      <td>7.708962</td>\n      <td>2218800</td>\n    </tr>\n    <tr>\n      <th>1995-01-05</th>\n      <td>15.375000</td>\n      <td>15.437500</td>\n      <td>15.218750</td>\n      <td>15.250000</td>\n      <td>7.599951</td>\n      <td>2319600</td>\n    </tr>\n    <tr>\n      <th>1995-01-06</th>\n      <td>15.156250</td>\n      <td>15.406250</td>\n      <td>15.156250</td>\n      <td>15.281250</td>\n      <td>7.615522</td>\n      <td>3438000</td>\n    </tr>\n    <tr>\n      <th>1995-01-09</th>\n      <td>15.343750</td>\n      <td>15.406250</td>\n      <td>15.187500</td>\n      <td>15.218750</td>\n      <td>7.584374</td>\n      <td>1795200</td>\n    </tr>\n    <tr>\n      <th>...</th>\n      <td>...</td>\n      <td>...</td>\n      <td>...</td>\n      <td>...</td>\n      <td>...</td>\n      <td>...</td>\n    </tr>\n    <tr>\n      <th>2023-03-06</th>\n      <td>140.729996</td>\n      <td>141.139999</td>\n      <td>139.940002</td>\n      <td>140.350006</td>\n      <td>140.350006</td>\n      <td>4943100</td>\n    </tr>\n    <tr>\n      <th>2023-03-07</th>\n      <td>140.429993</td>\n      <td>140.619995</td>\n      <td>137.339996</td>\n      <td>137.559998</td>\n      <td>137.559998</td>\n      <td>5606800</td>\n    </tr>\n    <tr>\n      <th>2023-03-08</th>\n      <td>137.199997</td>\n      <td>137.690002</td>\n      <td>136.600006</td>\n      <td>137.580002</td>\n      <td>137.580002</td>\n      <td>5518800</td>\n    </tr>\n    <tr>\n      <th>2023-03-09</th>\n      <td>138.149994</td>\n      <td>138.559998</td>\n      <td>136.100006</td>\n      <td>136.570007</td>\n      <td>136.570007</td>\n      <td>4467200</td>\n    </tr>\n    <tr>\n      <th>2023-03-10</th>\n      <td>136.949997</td>\n      <td>137.990005</td>\n      <td>136.350006</td>\n      <td>137.190002</td>\n      <td>137.190002</td>\n      <td>5908500</td>\n    </tr>\n  </tbody>\n</table>\n<p>7097 rows × 6 columns</p>\n</div>"
     },
     "execution_count": 2,
     "metadata": {},
     "output_type": "execute_result"
    }
   ],
   "source": [
    "PG = wb.get_data_yahoo('PG', datetime(1995, 1, 1))\n",
    "PG"
   ],
   "metadata": {
    "collapsed": false
   }
  },
  {
   "cell_type": "code",
   "execution_count": 3,
   "outputs": [
    {
     "data": {
      "text/plain": "                  Open        High         Low       Close   Adj Close  \\\nDate                                                                     \n2023-03-06  140.729996  141.139999  139.940002  140.350006  140.350006   \n2023-03-07  140.429993  140.619995  137.339996  137.559998  137.559998   \n2023-03-08  137.199997  137.690002  136.600006  137.580002  137.580002   \n2023-03-09  138.149994  138.559998  136.100006  136.570007  136.570007   \n2023-03-10  136.949997  137.990005  136.350006  137.190002  137.190002   \n\n             Volume  \nDate                 \n2023-03-06  4943100  \n2023-03-07  5606800  \n2023-03-08  5518800  \n2023-03-09  4467200  \n2023-03-10  5908500  ",
      "text/html": "<div>\n<style scoped>\n    .dataframe tbody tr th:only-of-type {\n        vertical-align: middle;\n    }\n\n    .dataframe tbody tr th {\n        vertical-align: top;\n    }\n\n    .dataframe thead th {\n        text-align: right;\n    }\n</style>\n<table border=\"1\" class=\"dataframe\">\n  <thead>\n    <tr style=\"text-align: right;\">\n      <th></th>\n      <th>Open</th>\n      <th>High</th>\n      <th>Low</th>\n      <th>Close</th>\n      <th>Adj Close</th>\n      <th>Volume</th>\n    </tr>\n    <tr>\n      <th>Date</th>\n      <th></th>\n      <th></th>\n      <th></th>\n      <th></th>\n      <th></th>\n      <th></th>\n    </tr>\n  </thead>\n  <tbody>\n    <tr>\n      <th>2023-03-06</th>\n      <td>140.729996</td>\n      <td>141.139999</td>\n      <td>139.940002</td>\n      <td>140.350006</td>\n      <td>140.350006</td>\n      <td>4943100</td>\n    </tr>\n    <tr>\n      <th>2023-03-07</th>\n      <td>140.429993</td>\n      <td>140.619995</td>\n      <td>137.339996</td>\n      <td>137.559998</td>\n      <td>137.559998</td>\n      <td>5606800</td>\n    </tr>\n    <tr>\n      <th>2023-03-08</th>\n      <td>137.199997</td>\n      <td>137.690002</td>\n      <td>136.600006</td>\n      <td>137.580002</td>\n      <td>137.580002</td>\n      <td>5518800</td>\n    </tr>\n    <tr>\n      <th>2023-03-09</th>\n      <td>138.149994</td>\n      <td>138.559998</td>\n      <td>136.100006</td>\n      <td>136.570007</td>\n      <td>136.570007</td>\n      <td>4467200</td>\n    </tr>\n    <tr>\n      <th>2023-03-10</th>\n      <td>136.949997</td>\n      <td>137.990005</td>\n      <td>136.350006</td>\n      <td>137.190002</td>\n      <td>137.190002</td>\n      <td>5908500</td>\n    </tr>\n  </tbody>\n</table>\n</div>"
     },
     "execution_count": 3,
     "metadata": {},
     "output_type": "execute_result"
    }
   ],
   "source": [
    "PG.tail()"
   ],
   "metadata": {
    "collapsed": false
   }
  },
  {
   "cell_type": "markdown",
   "source": [
    "### Simple Rate of Return\n",
    "\n",
    "$$\n",
    "\\frac{P_1 - P_0}{P_0} = \\frac{P_1}{P_0} - 1\n",
    "$$"
   ],
   "metadata": {
    "collapsed": false
   }
  },
  {
   "cell_type": "code",
   "execution_count": 5,
   "outputs": [
    {
     "name": "stdout",
     "output_type": "stream",
     "text": [
      "Date\n",
      "1995-01-03         NaN\n",
      "1995-01-04   -0.008016\n",
      "1995-01-05   -0.014141\n",
      "1995-01-06    0.002049\n",
      "1995-01-09   -0.004090\n",
      "                ...   \n",
      "2023-03-06   -0.004257\n",
      "2023-03-07   -0.019879\n",
      "2023-03-08    0.000145\n",
      "2023-03-09   -0.007341\n",
      "2023-03-10    0.004540\n",
      "Name: simple_return, Length: 7097, dtype: float64\n"
     ]
    }
   ],
   "source": [
    "PG['simple_return'] = (PG['Adj Close'] / PG['Adj Close'].shift(1)) -1\n",
    "print(PG['simple_return'])"
   ],
   "metadata": {
    "collapsed": false
   }
  },
  {
   "cell_type": "markdown",
   "source": [
    "**Visualize simple returns**"
   ],
   "metadata": {
    "collapsed": false
   }
  },
  {
   "cell_type": "code",
   "execution_count": 9,
   "outputs": [
    {
     "data": {
      "text/plain": "<Axes: xlabel='Date'>"
     },
     "execution_count": 9,
     "metadata": {},
     "output_type": "execute_result"
    },
    {
     "data": {
      "text/plain": "<Figure size 800x500 with 1 Axes>",
      "image/png": "[encoded data removed]"
     },
     "metadata": {},
     "output_type": "display_data"
    }
   ],
   "source": [
    "PG['simple_return'].plot(figsize=(8, 5))"
   ],
   "metadata": {
    "collapsed": false
   }
  },
  {
   "cell_type": "markdown",
   "source": [
    "**Calculate daily average rate of return**"
   ],
   "metadata": {
    "collapsed": false
   }
  },
  {
   "cell_type": "code",
   "execution_count": 10,
   "outputs": [
    {
     "data": {
      "text/plain": "0.0005043453115428584"
     },
     "execution_count": 10,
     "metadata": {},
     "output_type": "execute_result"
    }
   ],
   "source": [
    "avg_returns_d = PG['simple_return'].mean()\n",
    "avg_returns_d"
   ],
   "metadata": {
    "collapsed": false
   }
  },
  {
   "cell_type": "markdown",
   "source": [
    "**Anualize the average daily rate of return**\n"
   ],
   "metadata": {
    "collapsed": false
   }
  },
  {
   "cell_type": "code",
   "execution_count": 11,
   "outputs": [
    {
     "data": {
      "text/plain": "0.12608632788571458"
     },
     "execution_count": 11,
     "metadata": {},
     "output_type": "execute_result"
    }
   ],
   "source": [
    "avg_returns_a = PG['simple_return'].mean() * 250  # account for number of trading days != 365\n",
    "avg_returns_a"
   ],
   "metadata": {
    "collapsed": false
   }
  },
  {
   "cell_type": "markdown",
   "source": [
    "**The number shown above is an approximation of the annual rate of return per year**"
   ],
   "metadata": {
    "collapsed": false
   }
  },
  {
   "cell_type": "code",
   "execution_count": 12,
   "outputs": [
    {
     "name": "stdout",
     "output_type": "stream",
     "text": [
      "12.609 %\n"
     ]
    }
   ],
   "source": [
    "print(f\"{round(avg_returns_a, 5) * 100} %\")"
   ],
   "metadata": {
    "collapsed": false
   }
  },
  {
   "cell_type": "markdown",
   "source": [
    "If daily returns are $r_1, r_2, ..., r_{250}$, then the annual return, $R$, is given by $1 + R = (1 + r_1)(1 + r_2)...(1 + r_{250})$. By taking the logarithms and using the approximation $ln(1 + x) \\approx x$ we get:\n",
    "\n",
    "$$\n",
    "R = \\sum_{i=1}^{250}r_i\n",
    "$$\n",
    "\n",
    "https://quant.stackexchange.com/questions/51677/why-multiply-stock-returns-with-sqrt252"
   ],
   "metadata": {
    "collapsed": false
   }
  },
  {
   "cell_type": "code",
   "execution_count": null,
   "outputs": [],
   "source": [],
   "metadata": {
    "collapsed": false
   }
  }
 ],
 "metadata": {
  "kernelspec": {
   "display_name": "Python 3",
   "language": "python",
   "name": "python3"
  },
  "language_info": {
   "codemirror_mode": {
    "name": "ipython",
    "version": 2
   },
   "file_extension": ".py",
   "mimetype": "text/x-python",
   "name": "python",
   "nbconvert_exporter": "python",
   "pygments_lexer": "ipython2",
   "version": "2.7.6"
  }
 },
 "nbformat": 4,
 "nbformat_minor": 0
}
