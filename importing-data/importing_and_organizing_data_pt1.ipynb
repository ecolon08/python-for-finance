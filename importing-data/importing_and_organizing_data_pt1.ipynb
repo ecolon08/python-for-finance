{
 "cells": [
  {
   "cell_type": "code",
   "execution_count": 1,
   "metadata": {
    "collapsed": true
   },
   "outputs": [],
   "source": [
    "import numpy as np\n",
    "import pandas as pd"
   ]
  },
  {
   "cell_type": "code",
   "execution_count": 4,
   "outputs": [],
   "source": [
    "from pandas_datareader import data as wb\n",
    "import yfinance as yf\n",
    "from datetime import datetime\n",
    "yf.pdr_override()\n",
    "\n",
    "# Fix pdr reference\n",
    "# https://www.learnpythonwithrune.org/fix-get_data_yahoo-from-pandas-datareader/"
   ],
   "metadata": {
    "collapsed": false
   }
  },
  {
   "cell_type": "markdown",
   "source": [
    "### Getting Data from Yahoo Finance"
   ],
   "metadata": {
    "collapsed": false
   }
  },
  {
   "cell_type": "code",
   "execution_count": 6,
   "outputs": [
    {
     "name": "stdout",
     "output_type": "stream",
     "text": [
      "[*********************100%***********************]  1 of 1 completed\n"
     ]
    }
   ],
   "source": [
    "PG = wb.get_data_yahoo('PG', start=datetime(1995, 1, 1))"
   ],
   "metadata": {
    "collapsed": false
   }
  },
  {
   "cell_type": "code",
   "execution_count": 7,
   "outputs": [
    {
     "data": {
      "text/plain": "                  Open        High         Low       Close   Adj Close  \\\nDate                                                                     \n1995-01-03   15.468750   15.625000   15.437500   15.593750    7.771260   \n1995-01-04   15.531250   15.656250   15.312500   15.468750    7.708963   \n1995-01-05   15.375000   15.437500   15.218750   15.250000    7.599948   \n1995-01-06   15.156250   15.406250   15.156250   15.281250    7.615525   \n1995-01-09   15.343750   15.406250   15.187500   15.218750    7.584377   \n...                ...         ...         ...         ...         ...   \n2023-03-06  140.729996  141.139999  139.940002  140.350006  140.350006   \n2023-03-07  140.429993  140.619995  137.339996  137.559998  137.559998   \n2023-03-08  137.199997  137.690002  136.600006  137.580002  137.580002   \n2023-03-09  138.149994  138.559998  136.100006  136.570007  136.570007   \n2023-03-10  136.949997  137.990005  136.350006  137.190002  137.190002   \n\n             Volume  \nDate                 \n1995-01-03  3318400  \n1995-01-04  2218800  \n1995-01-05  2319600  \n1995-01-06  3438000  \n1995-01-09  1795200  \n...             ...  \n2023-03-06  4943100  \n2023-03-07  5606800  \n2023-03-08  5518800  \n2023-03-09  4467200  \n2023-03-10  5908500  \n\n[7097 rows x 6 columns]",
      "text/html": "<div>\n<style scoped>\n    .dataframe tbody tr th:only-of-type {\n        vertical-align: middle;\n    }\n\n    .dataframe tbody tr th {\n        vertical-align: top;\n    }\n\n    .dataframe thead th {\n        text-align: right;\n    }\n</style>\n<table border=\"1\" class=\"dataframe\">\n  <thead>\n    <tr style=\"text-align: right;\">\n      <th></th>\n      <th>Open</th>\n      <th>High</th>\n      <th>Low</th>\n      <th>Close</th>\n      <th>Adj Close</th>\n      <th>Volume</th>\n    </tr>\n    <tr>\n      <th>Date</th>\n      <th></th>\n      <th></th>\n      <th></th>\n      <th></th>\n      <th></th>\n      <th></th>\n    </tr>\n  </thead>\n  <tbody>\n    <tr>\n      <th>1995-01-03</th>\n      <td>15.468750</td>\n      <td>15.625000</td>\n      <td>15.437500</td>\n      <td>15.593750</td>\n      <td>7.771260</td>\n      <td>3318400</td>\n    </tr>\n    <tr>\n      <th>1995-01-04</th>\n      <td>15.531250</td>\n      <td>15.656250</td>\n      <td>15.312500</td>\n      <td>15.468750</td>\n      <td>7.708963</td>\n      <td>2218800</td>\n    </tr>\n    <tr>\n      <th>1995-01-05</th>\n      <td>15.375000</td>\n      <td>15.437500</td>\n      <td>15.218750</td>\n      <td>15.250000</td>\n      <td>7.599948</td>\n      <td>2319600</td>\n    </tr>\n    <tr>\n      <th>1995-01-06</th>\n      <td>15.156250</td>\n      <td>15.406250</td>\n      <td>15.156250</td>\n      <td>15.281250</td>\n      <td>7.615525</td>\n      <td>3438000</td>\n    </tr>\n    <tr>\n      <th>1995-01-09</th>\n      <td>15.343750</td>\n      <td>15.406250</td>\n      <td>15.187500</td>\n      <td>15.218750</td>\n      <td>7.584377</td>\n      <td>1795200</td>\n    </tr>\n    <tr>\n      <th>...</th>\n      <td>...</td>\n      <td>...</td>\n      <td>...</td>\n      <td>...</td>\n      <td>...</td>\n      <td>...</td>\n    </tr>\n    <tr>\n      <th>2023-03-06</th>\n      <td>140.729996</td>\n      <td>141.139999</td>\n      <td>139.940002</td>\n      <td>140.350006</td>\n      <td>140.350006</td>\n      <td>4943100</td>\n    </tr>\n    <tr>\n      <th>2023-03-07</th>\n      <td>140.429993</td>\n      <td>140.619995</td>\n      <td>137.339996</td>\n      <td>137.559998</td>\n      <td>137.559998</td>\n      <td>5606800</td>\n    </tr>\n    <tr>\n      <th>2023-03-08</th>\n      <td>137.199997</td>\n      <td>137.690002</td>\n      <td>136.600006</td>\n      <td>137.580002</td>\n      <td>137.580002</td>\n      <td>5518800</td>\n    </tr>\n    <tr>\n      <th>2023-03-09</th>\n      <td>138.149994</td>\n      <td>138.559998</td>\n      <td>136.100006</td>\n      <td>136.570007</td>\n      <td>136.570007</td>\n      <td>4467200</td>\n    </tr>\n    <tr>\n      <th>2023-03-10</th>\n      <td>136.949997</td>\n      <td>137.990005</td>\n      <td>136.350006</td>\n      <td>137.190002</td>\n      <td>137.190002</td>\n      <td>5908500</td>\n    </tr>\n  </tbody>\n</table>\n<p>7097 rows × 6 columns</p>\n</div>"
     },
     "execution_count": 7,
     "metadata": {},
     "output_type": "execute_result"
    }
   ],
   "source": [
    "PG"
   ],
   "metadata": {
    "collapsed": false
   }
  },
  {
   "cell_type": "code",
   "execution_count": 8,
   "outputs": [
    {
     "data": {
      "text/plain": "                  Open        High         Low       Close   Adj Close  \\\nDate                                                                     \n2023-03-06  140.729996  141.139999  139.940002  140.350006  140.350006   \n2023-03-07  140.429993  140.619995  137.339996  137.559998  137.559998   \n2023-03-08  137.199997  137.690002  136.600006  137.580002  137.580002   \n2023-03-09  138.149994  138.559998  136.100006  136.570007  136.570007   \n2023-03-10  136.949997  137.990005  136.350006  137.190002  137.190002   \n\n             Volume  \nDate                 \n2023-03-06  4943100  \n2023-03-07  5606800  \n2023-03-08  5518800  \n2023-03-09  4467200  \n2023-03-10  5908500  ",
      "text/html": "<div>\n<style scoped>\n    .dataframe tbody tr th:only-of-type {\n        vertical-align: middle;\n    }\n\n    .dataframe tbody tr th {\n        vertical-align: top;\n    }\n\n    .dataframe thead th {\n        text-align: right;\n    }\n</style>\n<table border=\"1\" class=\"dataframe\">\n  <thead>\n    <tr style=\"text-align: right;\">\n      <th></th>\n      <th>Open</th>\n      <th>High</th>\n      <th>Low</th>\n      <th>Close</th>\n      <th>Adj Close</th>\n      <th>Volume</th>\n    </tr>\n    <tr>\n      <th>Date</th>\n      <th></th>\n      <th></th>\n      <th></th>\n      <th></th>\n      <th></th>\n      <th></th>\n    </tr>\n  </thead>\n  <tbody>\n    <tr>\n      <th>2023-03-06</th>\n      <td>140.729996</td>\n      <td>141.139999</td>\n      <td>139.940002</td>\n      <td>140.350006</td>\n      <td>140.350006</td>\n      <td>4943100</td>\n    </tr>\n    <tr>\n      <th>2023-03-07</th>\n      <td>140.429993</td>\n      <td>140.619995</td>\n      <td>137.339996</td>\n      <td>137.559998</td>\n      <td>137.559998</td>\n      <td>5606800</td>\n    </tr>\n    <tr>\n      <th>2023-03-08</th>\n      <td>137.199997</td>\n      <td>137.690002</td>\n      <td>136.600006</td>\n      <td>137.580002</td>\n      <td>137.580002</td>\n      <td>5518800</td>\n    </tr>\n    <tr>\n      <th>2023-03-09</th>\n      <td>138.149994</td>\n      <td>138.559998</td>\n      <td>136.100006</td>\n      <td>136.570007</td>\n      <td>136.570007</td>\n      <td>4467200</td>\n    </tr>\n    <tr>\n      <th>2023-03-10</th>\n      <td>136.949997</td>\n      <td>137.990005</td>\n      <td>136.350006</td>\n      <td>137.190002</td>\n      <td>137.190002</td>\n      <td>5908500</td>\n    </tr>\n  </tbody>\n</table>\n</div>"
     },
     "execution_count": 8,
     "metadata": {},
     "output_type": "execute_result"
    }
   ],
   "source": [
    "PG.tail()"
   ],
   "metadata": {
    "collapsed": false
   }
  },
  {
   "cell_type": "code",
   "execution_count": 9,
   "outputs": [
    {
     "name": "stdout",
     "output_type": "stream",
     "text": [
      "<class 'pandas.core.frame.DataFrame'>\n",
      "DatetimeIndex: 7097 entries, 1995-01-03 to 2023-03-10\n",
      "Data columns (total 6 columns):\n",
      " #   Column     Non-Null Count  Dtype  \n",
      "---  ------     --------------  -----  \n",
      " 0   Open       7097 non-null   float64\n",
      " 1   High       7097 non-null   float64\n",
      " 2   Low        7097 non-null   float64\n",
      " 3   Close      7097 non-null   float64\n",
      " 4   Adj Close  7097 non-null   float64\n",
      " 5   Volume     7097 non-null   int64  \n",
      "dtypes: float64(5), int64(1)\n",
      "memory usage: 388.1 KB\n"
     ]
    }
   ],
   "source": [
    "PG.info()"
   ],
   "metadata": {
    "collapsed": false
   }
  },
  {
   "cell_type": "code",
   "execution_count": 10,
   "outputs": [
    {
     "name": "stdout",
     "output_type": "stream",
     "text": [
      "[*********************100%***********************]  1 of 1 completed\n",
      "[*********************100%***********************]  1 of 1 completed\n",
      "[*********************100%***********************]  1 of 1 completed\n",
      "[*********************100%***********************]  1 of 1 completed\n",
      "[*********************100%***********************]  1 of 1 completed\n"
     ]
    }
   ],
   "source": [
    "tickers = ['PG', 'MSFT', 'T', 'F', 'GE']\n",
    "new_data = pd.DataFrame()\n",
    "for t in tickers:\n",
    "    new_data[t] = wb.get_data_yahoo(t, start=datetime(1995, 1, 1))['Adj Close']"
   ],
   "metadata": {
    "collapsed": false
   }
  },
  {
   "cell_type": "code",
   "execution_count": 11,
   "outputs": [
    {
     "data": {
      "text/plain": "                    PG        MSFT          T          F         GE\nDate                                                               \n1995-01-03    7.771258    2.346930   2.647018   3.970338  25.531651\n1995-01-04    7.708965    2.363990   2.640282   4.077163  25.531651\n1995-01-05    7.599952    2.324997   2.681537   4.041555  25.594227\n1995-01-06    7.615525    2.363990   2.681537   4.041555  25.469065\n1995-01-09    7.584376    2.349366   2.673288   4.112771  25.218756\n...                ...         ...        ...        ...        ...\n2023-03-06  140.350006  256.869995  18.770000  12.980000  87.059998\n2023-03-07  137.559998  254.149994  18.709999  12.830000  86.389999\n2023-03-08  137.580002  253.699997  18.610001  12.980000  86.980003\n2023-03-09  136.570007  252.320007  18.320000  12.450000  91.559998\n2023-03-10  137.190002  248.589996  18.430000  12.100000  91.000000\n\n[7097 rows x 5 columns]",
      "text/html": "<div>\n<style scoped>\n    .dataframe tbody tr th:only-of-type {\n        vertical-align: middle;\n    }\n\n    .dataframe tbody tr th {\n        vertical-align: top;\n    }\n\n    .dataframe thead th {\n        text-align: right;\n    }\n</style>\n<table border=\"1\" class=\"dataframe\">\n  <thead>\n    <tr style=\"text-align: right;\">\n      <th></th>\n      <th>PG</th>\n      <th>MSFT</th>\n      <th>T</th>\n      <th>F</th>\n      <th>GE</th>\n    </tr>\n    <tr>\n      <th>Date</th>\n      <th></th>\n      <th></th>\n      <th></th>\n      <th></th>\n      <th></th>\n    </tr>\n  </thead>\n  <tbody>\n    <tr>\n      <th>1995-01-03</th>\n      <td>7.771258</td>\n      <td>2.346930</td>\n      <td>2.647018</td>\n      <td>3.970338</td>\n      <td>25.531651</td>\n    </tr>\n    <tr>\n      <th>1995-01-04</th>\n      <td>7.708965</td>\n      <td>2.363990</td>\n      <td>2.640282</td>\n      <td>4.077163</td>\n      <td>25.531651</td>\n    </tr>\n    <tr>\n      <th>1995-01-05</th>\n      <td>7.599952</td>\n      <td>2.324997</td>\n      <td>2.681537</td>\n      <td>4.041555</td>\n      <td>25.594227</td>\n    </tr>\n    <tr>\n      <th>1995-01-06</th>\n      <td>7.615525</td>\n      <td>2.363990</td>\n      <td>2.681537</td>\n      <td>4.041555</td>\n      <td>25.469065</td>\n    </tr>\n    <tr>\n      <th>1995-01-09</th>\n      <td>7.584376</td>\n      <td>2.349366</td>\n      <td>2.673288</td>\n      <td>4.112771</td>\n      <td>25.218756</td>\n    </tr>\n    <tr>\n      <th>...</th>\n      <td>...</td>\n      <td>...</td>\n      <td>...</td>\n      <td>...</td>\n      <td>...</td>\n    </tr>\n    <tr>\n      <th>2023-03-06</th>\n      <td>140.350006</td>\n      <td>256.869995</td>\n      <td>18.770000</td>\n      <td>12.980000</td>\n      <td>87.059998</td>\n    </tr>\n    <tr>\n      <th>2023-03-07</th>\n      <td>137.559998</td>\n      <td>254.149994</td>\n      <td>18.709999</td>\n      <td>12.830000</td>\n      <td>86.389999</td>\n    </tr>\n    <tr>\n      <th>2023-03-08</th>\n      <td>137.580002</td>\n      <td>253.699997</td>\n      <td>18.610001</td>\n      <td>12.980000</td>\n      <td>86.980003</td>\n    </tr>\n    <tr>\n      <th>2023-03-09</th>\n      <td>136.570007</td>\n      <td>252.320007</td>\n      <td>18.320000</td>\n      <td>12.450000</td>\n      <td>91.559998</td>\n    </tr>\n    <tr>\n      <th>2023-03-10</th>\n      <td>137.190002</td>\n      <td>248.589996</td>\n      <td>18.430000</td>\n      <td>12.100000</td>\n      <td>91.000000</td>\n    </tr>\n  </tbody>\n</table>\n<p>7097 rows × 5 columns</p>\n</div>"
     },
     "execution_count": 11,
     "metadata": {},
     "output_type": "execute_result"
    }
   ],
   "source": [
    "new_data"
   ],
   "metadata": {
    "collapsed": false
   }
  },
  {
   "cell_type": "code",
   "execution_count": 12,
   "outputs": [
    {
     "data": {
      "text/plain": "                    PG        MSFT          T      F         GE\nDate                                                           \n2023-03-06  140.350006  256.869995  18.770000  12.98  87.059998\n2023-03-07  137.559998  254.149994  18.709999  12.83  86.389999\n2023-03-08  137.580002  253.699997  18.610001  12.98  86.980003\n2023-03-09  136.570007  252.320007  18.320000  12.45  91.559998\n2023-03-10  137.190002  248.589996  18.430000  12.10  91.000000",
      "text/html": "<div>\n<style scoped>\n    .dataframe tbody tr th:only-of-type {\n        vertical-align: middle;\n    }\n\n    .dataframe tbody tr th {\n        vertical-align: top;\n    }\n\n    .dataframe thead th {\n        text-align: right;\n    }\n</style>\n<table border=\"1\" class=\"dataframe\">\n  <thead>\n    <tr style=\"text-align: right;\">\n      <th></th>\n      <th>PG</th>\n      <th>MSFT</th>\n      <th>T</th>\n      <th>F</th>\n      <th>GE</th>\n    </tr>\n    <tr>\n      <th>Date</th>\n      <th></th>\n      <th></th>\n      <th></th>\n      <th></th>\n      <th></th>\n    </tr>\n  </thead>\n  <tbody>\n    <tr>\n      <th>2023-03-06</th>\n      <td>140.350006</td>\n      <td>256.869995</td>\n      <td>18.770000</td>\n      <td>12.98</td>\n      <td>87.059998</td>\n    </tr>\n    <tr>\n      <th>2023-03-07</th>\n      <td>137.559998</td>\n      <td>254.149994</td>\n      <td>18.709999</td>\n      <td>12.83</td>\n      <td>86.389999</td>\n    </tr>\n    <tr>\n      <th>2023-03-08</th>\n      <td>137.580002</td>\n      <td>253.699997</td>\n      <td>18.610001</td>\n      <td>12.98</td>\n      <td>86.980003</td>\n    </tr>\n    <tr>\n      <th>2023-03-09</th>\n      <td>136.570007</td>\n      <td>252.320007</td>\n      <td>18.320000</td>\n      <td>12.45</td>\n      <td>91.559998</td>\n    </tr>\n    <tr>\n      <th>2023-03-10</th>\n      <td>137.190002</td>\n      <td>248.589996</td>\n      <td>18.430000</td>\n      <td>12.10</td>\n      <td>91.000000</td>\n    </tr>\n  </tbody>\n</table>\n</div>"
     },
     "execution_count": 12,
     "metadata": {},
     "output_type": "execute_result"
    }
   ],
   "source": [
    "new_data.tail()"
   ],
   "metadata": {
    "collapsed": false
   }
  },
  {
   "cell_type": "markdown",
   "source": [
    "### Getting data with Quandl"
   ],
   "metadata": {
    "collapsed": false
   }
  },
  {
   "cell_type": "code",
   "execution_count": 18,
   "outputs": [],
   "source": [
    "import quandl"
   ],
   "metadata": {
    "collapsed": false
   }
  },
  {
   "cell_type": "code",
   "execution_count": 19,
   "outputs": [],
   "source": [
    "mydata_qndl = quandl.get('FRED/GDP')"
   ],
   "metadata": {
    "collapsed": false
   }
  },
  {
   "cell_type": "code",
   "execution_count": 20,
   "outputs": [
    {
     "data": {
      "text/plain": "                Value\nDate                 \n2020-10-01  21477.597\n2021-01-01  22038.226\n2021-04-01  22740.959\n2021-07-01  23202.344\n2021-10-01  23992.355",
      "text/html": "<div>\n<style scoped>\n    .dataframe tbody tr th:only-of-type {\n        vertical-align: middle;\n    }\n\n    .dataframe tbody tr th {\n        vertical-align: top;\n    }\n\n    .dataframe thead th {\n        text-align: right;\n    }\n</style>\n<table border=\"1\" class=\"dataframe\">\n  <thead>\n    <tr style=\"text-align: right;\">\n      <th></th>\n      <th>Value</th>\n    </tr>\n    <tr>\n      <th>Date</th>\n      <th></th>\n    </tr>\n  </thead>\n  <tbody>\n    <tr>\n      <th>2020-10-01</th>\n      <td>21477.597</td>\n    </tr>\n    <tr>\n      <th>2021-01-01</th>\n      <td>22038.226</td>\n    </tr>\n    <tr>\n      <th>2021-04-01</th>\n      <td>22740.959</td>\n    </tr>\n    <tr>\n      <th>2021-07-01</th>\n      <td>23202.344</td>\n    </tr>\n    <tr>\n      <th>2021-10-01</th>\n      <td>23992.355</td>\n    </tr>\n  </tbody>\n</table>\n</div>"
     },
     "execution_count": 20,
     "metadata": {},
     "output_type": "execute_result"
    }
   ],
   "source": [
    "mydata_qndl.tail()"
   ],
   "metadata": {
    "collapsed": false
   }
  },
  {
   "cell_type": "code",
   "execution_count": 21,
   "outputs": [
    {
     "data": {
      "text/plain": "              Value\nDate               \n1947-01-01  243.164\n1947-04-01  245.968\n1947-07-01  249.585\n1947-10-01  259.745\n1948-01-01  265.742",
      "text/html": "<div>\n<style scoped>\n    .dataframe tbody tr th:only-of-type {\n        vertical-align: middle;\n    }\n\n    .dataframe tbody tr th {\n        vertical-align: top;\n    }\n\n    .dataframe thead th {\n        text-align: right;\n    }\n</style>\n<table border=\"1\" class=\"dataframe\">\n  <thead>\n    <tr style=\"text-align: right;\">\n      <th></th>\n      <th>Value</th>\n    </tr>\n    <tr>\n      <th>Date</th>\n      <th></th>\n    </tr>\n  </thead>\n  <tbody>\n    <tr>\n      <th>1947-01-01</th>\n      <td>243.164</td>\n    </tr>\n    <tr>\n      <th>1947-04-01</th>\n      <td>245.968</td>\n    </tr>\n    <tr>\n      <th>1947-07-01</th>\n      <td>249.585</td>\n    </tr>\n    <tr>\n      <th>1947-10-01</th>\n      <td>259.745</td>\n    </tr>\n    <tr>\n      <th>1948-01-01</th>\n      <td>265.742</td>\n    </tr>\n  </tbody>\n</table>\n</div>"
     },
     "execution_count": 21,
     "metadata": {},
     "output_type": "execute_result"
    }
   ],
   "source": [
    "mydata_qndl.head()"
   ],
   "metadata": {
    "collapsed": false
   }
  },
  {
   "cell_type": "code",
   "execution_count": null,
   "outputs": [],
   "source": [],
   "metadata": {
    "collapsed": false
   }
  }
 ],
 "metadata": {
  "kernelspec": {
   "display_name": "Python 3",
   "language": "python",
   "name": "python3"
  },
  "language_info": {
   "codemirror_mode": {
    "name": "ipython",
    "version": 2
   },
   "file_extension": ".py",
   "mimetype": "text/x-python",
   "name": "python",
   "nbconvert_exporter": "python",
   "pygments_lexer": "ipython2",
   "version": "2.7.6"
  }
 },
 "nbformat": 4,
 "nbformat_minor": 0
}
